{
  "nbformat": 4,
  "nbformat_minor": 0,
  "metadata": {
    "colab": {
      "provenance": [],
      "authorship_tag": "ABX9TyOfFbw8ySNHTP/jVyqHn1Zt",
      "include_colab_link": true
    },
    "kernelspec": {
      "name": "python3",
      "display_name": "Python 3"
    },
    "language_info": {
      "name": "python"
    }
  },
  "cells": [
    {
      "cell_type": "markdown",
      "metadata": {
        "id": "view-in-github",
        "colab_type": "text"
      },
      "source": [
        "<a href=\"https://colab.research.google.com/github/CharlesKasasira/ML_assignment/blob/main/ML_assignment.ipynb\" target=\"_parent\"><img src=\"https://colab.research.google.com/assets/colab-badge.svg\" alt=\"Open In Colab\"/></a>"
      ]
    },
    {
      "cell_type": "markdown",
      "source": [
        "# Group Assignment\n",
        "\n",
        "| Names | Studet Number | Registration Number |\n",
        "| --- | --- | --- |\n",
        "| Ssemakula Martin |\t2100719937 |\t21/U/19937/EVE |\n",
        "| Nagaba Norman |\t2100721359 |\t21/U/21359/EVE |\n",
        "| Kasasira Charles Derrick |\t2100705662 |\t21/U/05662/EVE |\n",
        "| Kaboggoza Ronnie | \t2100710546 |\t21/U/10546/EVE |\n",
        "| Mafabi Daniel |\t2100719677 |\t21/U/19677/EVE | \n",
        "\n",
        "#### Question\n",
        "- Go to kaggle and select a dataset.\n",
        "- Describe the data and the objective and build candidate models using 3-5 algorithms\n",
        "- Compare the performance and pick a best performing algorithm for further tuning\n",
        "- Run the final optimized/tuned model for your algorithm and report the results.\n",
        "- Present all steps along with the necessary explanations as a Google Colab or jupyter notebook. You can share jupyter notebooks via GitHub. Use **sklearn** to implement the algorithms\n",
        "\n",
        "Dataset: https://www.kaggle.com/datasets/blewitts/ecommerce-rfm-analysis\n",
        "\n",
        "#### Objective\n",
        "\n",
        "The objective of this project is to build a machine learning model to predict which customers are likely to churn. In this case, churn refers to customers who stop making purchases from the online retailer.\n",
        "\n",
        "\n",
        "\n",
        "#### Build candidate models using 5 algorithms.\n",
        "We will build five candidate models to predict customer churn:\n",
        "\n",
        "  - Decision trees\n",
        "  - K-Nearest Neighbors\n",
        "  - Naive bayes\n",
        "  - Support vector machines (SVMs)\n",
        "  - Random forests\n"
      ],
      "metadata": {
        "id": "CPVdoel--OT7"
      }
    },
    {
      "cell_type": "code",
      "source": [
        "from google.colab import drive\n",
        "drive.mount(\"/content/gdrive\")"
      ],
      "metadata": {
        "colab": {
          "base_uri": "https://localhost:8080/"
        },
        "id": "khFhV0o579v8",
        "outputId": "4144bbd9-b872-469e-96a6-c839d2c910d6"
      },
      "execution_count": null,
      "outputs": [
        {
          "output_type": "stream",
          "name": "stdout",
          "text": [
            "Mounted at /content/gdrive\n"
          ]
        }
      ]
    },
    {
      "cell_type": "code",
      "source": [
        "import pandas as pd\n",
        "\n",
        "df = pd.read_csv('/content/gdrive/My Drive/ecom_data_rfm.csv')"
      ],
      "metadata": {
        "id": "5-4aSuQO9zfP"
      },
      "execution_count": null,
      "outputs": []
    },
    {
      "cell_type": "markdown",
      "source": [
        "#### Data Desciption"
      ],
      "metadata": {
        "id": "lc9FH7aboGxP"
      }
    },
    {
      "cell_type": "code",
      "source": [
        "df.head()"
      ],
      "metadata": {
        "colab": {
          "base_uri": "https://localhost:8080/",
          "height": 206
        },
        "id": "zn_MNOoC-eJ0",
        "outputId": "72c042dc-da40-4d3b-85f4-6c087305391d"
      },
      "execution_count": null,
      "outputs": [
        {
          "output_type": "execute_result",
          "data": {
            "text/plain": [
              "   Unnamed: 0  CustomerID  Frequency  Recency  Monetary  rankR  rankF  rankM  \\\n",
              "0           1       12346          2      358      2.08      2      1      1   \n",
              "1           2       12347        182       35    481.21      5      4      3   \n",
              "2           3       12348         31      108    178.71      5      1      2   \n",
              "3           4       12349         73       51    605.10      5      2      4   \n",
              "4           5       12350         17      343     65.30      2      1      1   \n",
              "\n",
              "   groupRFM         Country     Customer_Segment  \n",
              "0       211  United Kingdom          Lost Lowest  \n",
              "1       543         Iceland      Loyal Customers  \n",
              "2       512         Finland   Potential Loyalist  \n",
              "3       524           Italy  Recent High Spender  \n",
              "4       211          Norway          Lost Lowest  "
            ],
            "text/html": [
              "\n",
              "  <div id=\"df-8a294405-1485-4636-a6e3-113e124ba8f9\">\n",
              "    <div class=\"colab-df-container\">\n",
              "      <div>\n",
              "<style scoped>\n",
              "    .dataframe tbody tr th:only-of-type {\n",
              "        vertical-align: middle;\n",
              "    }\n",
              "\n",
              "    .dataframe tbody tr th {\n",
              "        vertical-align: top;\n",
              "    }\n",
              "\n",
              "    .dataframe thead th {\n",
              "        text-align: right;\n",
              "    }\n",
              "</style>\n",
              "<table border=\"1\" class=\"dataframe\">\n",
              "  <thead>\n",
              "    <tr style=\"text-align: right;\">\n",
              "      <th></th>\n",
              "      <th>Unnamed: 0</th>\n",
              "      <th>CustomerID</th>\n",
              "      <th>Frequency</th>\n",
              "      <th>Recency</th>\n",
              "      <th>Monetary</th>\n",
              "      <th>rankR</th>\n",
              "      <th>rankF</th>\n",
              "      <th>rankM</th>\n",
              "      <th>groupRFM</th>\n",
              "      <th>Country</th>\n",
              "      <th>Customer_Segment</th>\n",
              "    </tr>\n",
              "  </thead>\n",
              "  <tbody>\n",
              "    <tr>\n",
              "      <th>0</th>\n",
              "      <td>1</td>\n",
              "      <td>12346</td>\n",
              "      <td>2</td>\n",
              "      <td>358</td>\n",
              "      <td>2.08</td>\n",
              "      <td>2</td>\n",
              "      <td>1</td>\n",
              "      <td>1</td>\n",
              "      <td>211</td>\n",
              "      <td>United Kingdom</td>\n",
              "      <td>Lost Lowest</td>\n",
              "    </tr>\n",
              "    <tr>\n",
              "      <th>1</th>\n",
              "      <td>2</td>\n",
              "      <td>12347</td>\n",
              "      <td>182</td>\n",
              "      <td>35</td>\n",
              "      <td>481.21</td>\n",
              "      <td>5</td>\n",
              "      <td>4</td>\n",
              "      <td>3</td>\n",
              "      <td>543</td>\n",
              "      <td>Iceland</td>\n",
              "      <td>Loyal Customers</td>\n",
              "    </tr>\n",
              "    <tr>\n",
              "      <th>2</th>\n",
              "      <td>3</td>\n",
              "      <td>12348</td>\n",
              "      <td>31</td>\n",
              "      <td>108</td>\n",
              "      <td>178.71</td>\n",
              "      <td>5</td>\n",
              "      <td>1</td>\n",
              "      <td>2</td>\n",
              "      <td>512</td>\n",
              "      <td>Finland</td>\n",
              "      <td>Potential Loyalist</td>\n",
              "    </tr>\n",
              "    <tr>\n",
              "      <th>3</th>\n",
              "      <td>4</td>\n",
              "      <td>12349</td>\n",
              "      <td>73</td>\n",
              "      <td>51</td>\n",
              "      <td>605.10</td>\n",
              "      <td>5</td>\n",
              "      <td>2</td>\n",
              "      <td>4</td>\n",
              "      <td>524</td>\n",
              "      <td>Italy</td>\n",
              "      <td>Recent High Spender</td>\n",
              "    </tr>\n",
              "    <tr>\n",
              "      <th>4</th>\n",
              "      <td>5</td>\n",
              "      <td>12350</td>\n",
              "      <td>17</td>\n",
              "      <td>343</td>\n",
              "      <td>65.30</td>\n",
              "      <td>2</td>\n",
              "      <td>1</td>\n",
              "      <td>1</td>\n",
              "      <td>211</td>\n",
              "      <td>Norway</td>\n",
              "      <td>Lost Lowest</td>\n",
              "    </tr>\n",
              "  </tbody>\n",
              "</table>\n",
              "</div>\n",
              "      <button class=\"colab-df-convert\" onclick=\"convertToInteractive('df-8a294405-1485-4636-a6e3-113e124ba8f9')\"\n",
              "              title=\"Convert this dataframe to an interactive table.\"\n",
              "              style=\"display:none;\">\n",
              "        \n",
              "  <svg xmlns=\"http://www.w3.org/2000/svg\" height=\"24px\"viewBox=\"0 0 24 24\"\n",
              "       width=\"24px\">\n",
              "    <path d=\"M0 0h24v24H0V0z\" fill=\"none\"/>\n",
              "    <path d=\"M18.56 5.44l.94 2.06.94-2.06 2.06-.94-2.06-.94-.94-2.06-.94 2.06-2.06.94zm-11 1L8.5 8.5l.94-2.06 2.06-.94-2.06-.94L8.5 2.5l-.94 2.06-2.06.94zm10 10l.94 2.06.94-2.06 2.06-.94-2.06-.94-.94-2.06-.94 2.06-2.06.94z\"/><path d=\"M17.41 7.96l-1.37-1.37c-.4-.4-.92-.59-1.43-.59-.52 0-1.04.2-1.43.59L10.3 9.45l-7.72 7.72c-.78.78-.78 2.05 0 2.83L4 21.41c.39.39.9.59 1.41.59.51 0 1.02-.2 1.41-.59l7.78-7.78 2.81-2.81c.8-.78.8-2.07 0-2.86zM5.41 20L4 18.59l7.72-7.72 1.47 1.35L5.41 20z\"/>\n",
              "  </svg>\n",
              "      </button>\n",
              "      \n",
              "  <style>\n",
              "    .colab-df-container {\n",
              "      display:flex;\n",
              "      flex-wrap:wrap;\n",
              "      gap: 12px;\n",
              "    }\n",
              "\n",
              "    .colab-df-convert {\n",
              "      background-color: #E8F0FE;\n",
              "      border: none;\n",
              "      border-radius: 50%;\n",
              "      cursor: pointer;\n",
              "      display: none;\n",
              "      fill: #1967D2;\n",
              "      height: 32px;\n",
              "      padding: 0 0 0 0;\n",
              "      width: 32px;\n",
              "    }\n",
              "\n",
              "    .colab-df-convert:hover {\n",
              "      background-color: #E2EBFA;\n",
              "      box-shadow: 0px 1px 2px rgba(60, 64, 67, 0.3), 0px 1px 3px 1px rgba(60, 64, 67, 0.15);\n",
              "      fill: #174EA6;\n",
              "    }\n",
              "\n",
              "    [theme=dark] .colab-df-convert {\n",
              "      background-color: #3B4455;\n",
              "      fill: #D2E3FC;\n",
              "    }\n",
              "\n",
              "    [theme=dark] .colab-df-convert:hover {\n",
              "      background-color: #434B5C;\n",
              "      box-shadow: 0px 1px 3px 1px rgba(0, 0, 0, 0.15);\n",
              "      filter: drop-shadow(0px 1px 2px rgba(0, 0, 0, 0.3));\n",
              "      fill: #FFFFFF;\n",
              "    }\n",
              "  </style>\n",
              "\n",
              "      <script>\n",
              "        const buttonEl =\n",
              "          document.querySelector('#df-8a294405-1485-4636-a6e3-113e124ba8f9 button.colab-df-convert');\n",
              "        buttonEl.style.display =\n",
              "          google.colab.kernel.accessAllowed ? 'block' : 'none';\n",
              "\n",
              "        async function convertToInteractive(key) {\n",
              "          const element = document.querySelector('#df-8a294405-1485-4636-a6e3-113e124ba8f9');\n",
              "          const dataTable =\n",
              "            await google.colab.kernel.invokeFunction('convertToInteractive',\n",
              "                                                     [key], {});\n",
              "          if (!dataTable) return;\n",
              "\n",
              "          const docLinkHtml = 'Like what you see? Visit the ' +\n",
              "            '<a target=\"_blank\" href=https://colab.research.google.com/notebooks/data_table.ipynb>data table notebook</a>'\n",
              "            + ' to learn more about interactive tables.';\n",
              "          element.innerHTML = '';\n",
              "          dataTable['output_type'] = 'display_data';\n",
              "          await google.colab.output.renderOutput(dataTable, element);\n",
              "          const docLink = document.createElement('div');\n",
              "          docLink.innerHTML = docLinkHtml;\n",
              "          element.appendChild(docLink);\n",
              "        }\n",
              "      </script>\n",
              "    </div>\n",
              "  </div>\n",
              "  "
            ]
          },
          "metadata": {},
          "execution_count": 5
        }
      ]
    },
    {
      "cell_type": "markdown",
      "source": [
        "This dataset contains customer purchase data from an e-commerce store, with columns such as:\n",
        "\n",
        "  - **CustomerID**: unique identifier for each customer\n",
        "  - **Frequency**: the number of times each customer made a purchase\n",
        "  - **Recency**: how recently each customer made their last purchase\n",
        "  - **Monetary**: the total amount spent by each customer on purchases\n",
        "  - **rankR**: a rank assigned to each customer based on their Recency value\n",
        "  - **rankF**: a rank assigned to each customer based on their Frequency value\n",
        "  - **rankM**: a rank assigned to each customer based on their Monetary value\n",
        "  - **groupRFM**: a combination of the rank values for Recency, Frequency, and Monetary, used to segment customers into different groups based on their purchase behavior\n",
        "  - **Country**: the country where each customer is located\n",
        "  - **Customer_Segment**: a label assigned to each customer based on their purchase behavior and groupRFM value.\n",
        "\n",
        "The objective of our analysis will be to predict the **Customer_Segment** label for new customers based on their purchase behavior."
      ],
      "metadata": {
        "id": "ZQMuRzWDRB4e"
      }
    },
    {
      "cell_type": "code",
      "source": [
        "df.columns.values.tolist()"
      ],
      "metadata": {
        "colab": {
          "base_uri": "https://localhost:8080/"
        },
        "id": "-AprZaXPO-Ia",
        "outputId": "84fc447d-c63b-4140-83a3-dd393d1b4606"
      },
      "execution_count": null,
      "outputs": [
        {
          "output_type": "execute_result",
          "data": {
            "text/plain": [
              "['Unnamed: 0',\n",
              " 'CustomerID',\n",
              " 'Frequency',\n",
              " 'Recency',\n",
              " 'Monetary',\n",
              " 'rankR',\n",
              " 'rankF',\n",
              " 'rankM',\n",
              " 'groupRFM',\n",
              " 'Country',\n",
              " 'Customer_Segment']"
            ]
          },
          "metadata": {},
          "execution_count": 16
        }
      ]
    },
    {
      "cell_type": "code",
      "source": [
        "# Import the necessary libraries\n",
        "import pandas as pd\n",
        "import numpy as np\n",
        "import seaborn as sns\n",
        "import matplotlib.pyplot as plt\n",
        "\n",
        "from sklearn.model_selection import train_test_split, GridSearchCV\n",
        "from sklearn.preprocessing import StandardScaler, LabelEncoder\n",
        "from sklearn.metrics import accuracy_score, confusion_matrix, classification_report, f1_score, roc_auc_score\n",
        "from sklearn.linear_model import LogisticRegression\n",
        "from sklearn.ensemble import RandomForestClassifier\n",
        "from sklearn.neighbors import KNeighborsClassifier\n",
        "from sklearn.tree import DecisionTreeClassifier\n",
        "from sklearn.naive_bayes import GaussianNB\n",
        "from sklearn.svm import SVC"
      ],
      "metadata": {
        "id": "IHOABadD-oDP"
      },
      "execution_count": null,
      "outputs": []
    },
    {
      "cell_type": "code",
      "source": [
        "# check for any missing values and handle them\n",
        "\n",
        "df.isnull().sum()\n",
        "df.dropna(inplace=True)"
      ],
      "metadata": {
        "id": "aQzLjuWLMjQK"
      },
      "execution_count": null,
      "outputs": []
    },
    {
      "cell_type": "code",
      "source": [
        "# Drop unnecessary columns\n",
        "df.drop(['Unnamed: 0', 'Country'], axis=1, inplace=True) # dropping Unnamed and country columns\n"
      ],
      "metadata": {
        "id": "VF8e9wrTM4ML"
      },
      "execution_count": null,
      "outputs": []
    },
    {
      "cell_type": "code",
      "source": [
        "df.head()"
      ],
      "metadata": {
        "colab": {
          "base_uri": "https://localhost:8080/",
          "height": 206
        },
        "id": "93sFJQbkTztn",
        "outputId": "89d4cb66-667c-46d0-fe3a-368dd1391732"
      },
      "execution_count": null,
      "outputs": [
        {
          "output_type": "execute_result",
          "data": {
            "text/plain": [
              "   CustomerID  Frequency  Recency  Monetary  rankR  rankF  rankM  groupRFM  \\\n",
              "0       12346          2      358      2.08      2      1      1       211   \n",
              "1       12347        182       35    481.21      5      4      3       543   \n",
              "2       12348         31      108    178.71      5      1      2       512   \n",
              "3       12349         73       51    605.10      5      2      4       524   \n",
              "4       12350         17      343     65.30      2      1      1       211   \n",
              "\n",
              "      Customer_Segment  \n",
              "0          Lost Lowest  \n",
              "1      Loyal Customers  \n",
              "2   Potential Loyalist  \n",
              "3  Recent High Spender  \n",
              "4          Lost Lowest  "
            ],
            "text/html": [
              "\n",
              "  <div id=\"df-68feb91e-09f1-4b92-bd44-0bc680bda645\">\n",
              "    <div class=\"colab-df-container\">\n",
              "      <div>\n",
              "<style scoped>\n",
              "    .dataframe tbody tr th:only-of-type {\n",
              "        vertical-align: middle;\n",
              "    }\n",
              "\n",
              "    .dataframe tbody tr th {\n",
              "        vertical-align: top;\n",
              "    }\n",
              "\n",
              "    .dataframe thead th {\n",
              "        text-align: right;\n",
              "    }\n",
              "</style>\n",
              "<table border=\"1\" class=\"dataframe\">\n",
              "  <thead>\n",
              "    <tr style=\"text-align: right;\">\n",
              "      <th></th>\n",
              "      <th>CustomerID</th>\n",
              "      <th>Frequency</th>\n",
              "      <th>Recency</th>\n",
              "      <th>Monetary</th>\n",
              "      <th>rankR</th>\n",
              "      <th>rankF</th>\n",
              "      <th>rankM</th>\n",
              "      <th>groupRFM</th>\n",
              "      <th>Customer_Segment</th>\n",
              "    </tr>\n",
              "  </thead>\n",
              "  <tbody>\n",
              "    <tr>\n",
              "      <th>0</th>\n",
              "      <td>12346</td>\n",
              "      <td>2</td>\n",
              "      <td>358</td>\n",
              "      <td>2.08</td>\n",
              "      <td>2</td>\n",
              "      <td>1</td>\n",
              "      <td>1</td>\n",
              "      <td>211</td>\n",
              "      <td>Lost Lowest</td>\n",
              "    </tr>\n",
              "    <tr>\n",
              "      <th>1</th>\n",
              "      <td>12347</td>\n",
              "      <td>182</td>\n",
              "      <td>35</td>\n",
              "      <td>481.21</td>\n",
              "      <td>5</td>\n",
              "      <td>4</td>\n",
              "      <td>3</td>\n",
              "      <td>543</td>\n",
              "      <td>Loyal Customers</td>\n",
              "    </tr>\n",
              "    <tr>\n",
              "      <th>2</th>\n",
              "      <td>12348</td>\n",
              "      <td>31</td>\n",
              "      <td>108</td>\n",
              "      <td>178.71</td>\n",
              "      <td>5</td>\n",
              "      <td>1</td>\n",
              "      <td>2</td>\n",
              "      <td>512</td>\n",
              "      <td>Potential Loyalist</td>\n",
              "    </tr>\n",
              "    <tr>\n",
              "      <th>3</th>\n",
              "      <td>12349</td>\n",
              "      <td>73</td>\n",
              "      <td>51</td>\n",
              "      <td>605.10</td>\n",
              "      <td>5</td>\n",
              "      <td>2</td>\n",
              "      <td>4</td>\n",
              "      <td>524</td>\n",
              "      <td>Recent High Spender</td>\n",
              "    </tr>\n",
              "    <tr>\n",
              "      <th>4</th>\n",
              "      <td>12350</td>\n",
              "      <td>17</td>\n",
              "      <td>343</td>\n",
              "      <td>65.30</td>\n",
              "      <td>2</td>\n",
              "      <td>1</td>\n",
              "      <td>1</td>\n",
              "      <td>211</td>\n",
              "      <td>Lost Lowest</td>\n",
              "    </tr>\n",
              "  </tbody>\n",
              "</table>\n",
              "</div>\n",
              "      <button class=\"colab-df-convert\" onclick=\"convertToInteractive('df-68feb91e-09f1-4b92-bd44-0bc680bda645')\"\n",
              "              title=\"Convert this dataframe to an interactive table.\"\n",
              "              style=\"display:none;\">\n",
              "        \n",
              "  <svg xmlns=\"http://www.w3.org/2000/svg\" height=\"24px\"viewBox=\"0 0 24 24\"\n",
              "       width=\"24px\">\n",
              "    <path d=\"M0 0h24v24H0V0z\" fill=\"none\"/>\n",
              "    <path d=\"M18.56 5.44l.94 2.06.94-2.06 2.06-.94-2.06-.94-.94-2.06-.94 2.06-2.06.94zm-11 1L8.5 8.5l.94-2.06 2.06-.94-2.06-.94L8.5 2.5l-.94 2.06-2.06.94zm10 10l.94 2.06.94-2.06 2.06-.94-2.06-.94-.94-2.06-.94 2.06-2.06.94z\"/><path d=\"M17.41 7.96l-1.37-1.37c-.4-.4-.92-.59-1.43-.59-.52 0-1.04.2-1.43.59L10.3 9.45l-7.72 7.72c-.78.78-.78 2.05 0 2.83L4 21.41c.39.39.9.59 1.41.59.51 0 1.02-.2 1.41-.59l7.78-7.78 2.81-2.81c.8-.78.8-2.07 0-2.86zM5.41 20L4 18.59l7.72-7.72 1.47 1.35L5.41 20z\"/>\n",
              "  </svg>\n",
              "      </button>\n",
              "      \n",
              "  <style>\n",
              "    .colab-df-container {\n",
              "      display:flex;\n",
              "      flex-wrap:wrap;\n",
              "      gap: 12px;\n",
              "    }\n",
              "\n",
              "    .colab-df-convert {\n",
              "      background-color: #E8F0FE;\n",
              "      border: none;\n",
              "      border-radius: 50%;\n",
              "      cursor: pointer;\n",
              "      display: none;\n",
              "      fill: #1967D2;\n",
              "      height: 32px;\n",
              "      padding: 0 0 0 0;\n",
              "      width: 32px;\n",
              "    }\n",
              "\n",
              "    .colab-df-convert:hover {\n",
              "      background-color: #E2EBFA;\n",
              "      box-shadow: 0px 1px 2px rgba(60, 64, 67, 0.3), 0px 1px 3px 1px rgba(60, 64, 67, 0.15);\n",
              "      fill: #174EA6;\n",
              "    }\n",
              "\n",
              "    [theme=dark] .colab-df-convert {\n",
              "      background-color: #3B4455;\n",
              "      fill: #D2E3FC;\n",
              "    }\n",
              "\n",
              "    [theme=dark] .colab-df-convert:hover {\n",
              "      background-color: #434B5C;\n",
              "      box-shadow: 0px 1px 3px 1px rgba(0, 0, 0, 0.15);\n",
              "      filter: drop-shadow(0px 1px 2px rgba(0, 0, 0, 0.3));\n",
              "      fill: #FFFFFF;\n",
              "    }\n",
              "  </style>\n",
              "\n",
              "      <script>\n",
              "        const buttonEl =\n",
              "          document.querySelector('#df-68feb91e-09f1-4b92-bd44-0bc680bda645 button.colab-df-convert');\n",
              "        buttonEl.style.display =\n",
              "          google.colab.kernel.accessAllowed ? 'block' : 'none';\n",
              "\n",
              "        async function convertToInteractive(key) {\n",
              "          const element = document.querySelector('#df-68feb91e-09f1-4b92-bd44-0bc680bda645');\n",
              "          const dataTable =\n",
              "            await google.colab.kernel.invokeFunction('convertToInteractive',\n",
              "                                                     [key], {});\n",
              "          if (!dataTable) return;\n",
              "\n",
              "          const docLinkHtml = 'Like what you see? Visit the ' +\n",
              "            '<a target=\"_blank\" href=https://colab.research.google.com/notebooks/data_table.ipynb>data table notebook</a>'\n",
              "            + ' to learn more about interactive tables.';\n",
              "          element.innerHTML = '';\n",
              "          dataTable['output_type'] = 'display_data';\n",
              "          await google.colab.output.renderOutput(dataTable, element);\n",
              "          const docLink = document.createElement('div');\n",
              "          docLink.innerHTML = docLinkHtml;\n",
              "          element.appendChild(docLink);\n",
              "        }\n",
              "      </script>\n",
              "    </div>\n",
              "  </div>\n",
              "  "
            ]
          },
          "metadata": {},
          "execution_count": 18
        }
      ]
    },
    {
      "cell_type": "code",
      "source": [
        "# Encode the Customer_Segment column\n",
        "le = LabelEncoder()\n",
        "df['Customer_Segment'] = le.fit_transform(df['Customer_Segment'])"
      ],
      "metadata": {
        "id": "fqT-sMI3KtCO"
      },
      "execution_count": null,
      "outputs": []
    },
    {
      "cell_type": "code",
      "source": [
        "# Split the data into training and testing sets\n",
        "X = df.drop(['Customer_Segment'], axis=1)\n",
        "y = df['Customer_Segment']\n",
        "X_train, X_test, y_train, y_test = train_test_split(X, y, test_size=0.2, random_state=42)\n"
      ],
      "metadata": {
        "id": "10hbGqgIUNNV"
      },
      "execution_count": null,
      "outputs": []
    },
    {
      "cell_type": "code",
      "source": [
        "X"
      ],
      "metadata": {
        "colab": {
          "base_uri": "https://localhost:8080/",
          "height": 424
        },
        "id": "fKuNa0RhUT0k",
        "outputId": "280af355-cba8-426c-f85b-e8e800b7e75e"
      },
      "execution_count": null,
      "outputs": [
        {
          "output_type": "execute_result",
          "data": {
            "text/plain": [
              "      CustomerID  Frequency  Recency  Monetary  rankR  rankF  rankM  groupRFM\n",
              "0          12346          2      358      2.08      2      1      1       211\n",
              "1          12347        182       35    481.21      5      4      3       543\n",
              "2          12348         31      108    178.71      5      1      2       512\n",
              "3          12349         73       51    605.10      5      2      4       524\n",
              "4          12350         17      343     65.30      2      1      1       211\n",
              "...          ...        ...      ...       ...    ...    ...    ...       ...\n",
              "4375       18280         10      310     47.65      2      1      1       211\n",
              "4376       18281          7      213     39.36      3      1      1       311\n",
              "4377       18282         13       40     62.68      5      1      1       511\n",
              "4378       18283        756       36   1220.93      5      5      5       555\n",
              "4379       18287         70       75    104.55      5      2      1       521\n",
              "\n",
              "[4326 rows x 8 columns]"
            ],
            "text/html": [
              "\n",
              "  <div id=\"df-4719e6f7-17ae-4152-ab20-e3061ab160c4\">\n",
              "    <div class=\"colab-df-container\">\n",
              "      <div>\n",
              "<style scoped>\n",
              "    .dataframe tbody tr th:only-of-type {\n",
              "        vertical-align: middle;\n",
              "    }\n",
              "\n",
              "    .dataframe tbody tr th {\n",
              "        vertical-align: top;\n",
              "    }\n",
              "\n",
              "    .dataframe thead th {\n",
              "        text-align: right;\n",
              "    }\n",
              "</style>\n",
              "<table border=\"1\" class=\"dataframe\">\n",
              "  <thead>\n",
              "    <tr style=\"text-align: right;\">\n",
              "      <th></th>\n",
              "      <th>CustomerID</th>\n",
              "      <th>Frequency</th>\n",
              "      <th>Recency</th>\n",
              "      <th>Monetary</th>\n",
              "      <th>rankR</th>\n",
              "      <th>rankF</th>\n",
              "      <th>rankM</th>\n",
              "      <th>groupRFM</th>\n",
              "    </tr>\n",
              "  </thead>\n",
              "  <tbody>\n",
              "    <tr>\n",
              "      <th>0</th>\n",
              "      <td>12346</td>\n",
              "      <td>2</td>\n",
              "      <td>358</td>\n",
              "      <td>2.08</td>\n",
              "      <td>2</td>\n",
              "      <td>1</td>\n",
              "      <td>1</td>\n",
              "      <td>211</td>\n",
              "    </tr>\n",
              "    <tr>\n",
              "      <th>1</th>\n",
              "      <td>12347</td>\n",
              "      <td>182</td>\n",
              "      <td>35</td>\n",
              "      <td>481.21</td>\n",
              "      <td>5</td>\n",
              "      <td>4</td>\n",
              "      <td>3</td>\n",
              "      <td>543</td>\n",
              "    </tr>\n",
              "    <tr>\n",
              "      <th>2</th>\n",
              "      <td>12348</td>\n",
              "      <td>31</td>\n",
              "      <td>108</td>\n",
              "      <td>178.71</td>\n",
              "      <td>5</td>\n",
              "      <td>1</td>\n",
              "      <td>2</td>\n",
              "      <td>512</td>\n",
              "    </tr>\n",
              "    <tr>\n",
              "      <th>3</th>\n",
              "      <td>12349</td>\n",
              "      <td>73</td>\n",
              "      <td>51</td>\n",
              "      <td>605.10</td>\n",
              "      <td>5</td>\n",
              "      <td>2</td>\n",
              "      <td>4</td>\n",
              "      <td>524</td>\n",
              "    </tr>\n",
              "    <tr>\n",
              "      <th>4</th>\n",
              "      <td>12350</td>\n",
              "      <td>17</td>\n",
              "      <td>343</td>\n",
              "      <td>65.30</td>\n",
              "      <td>2</td>\n",
              "      <td>1</td>\n",
              "      <td>1</td>\n",
              "      <td>211</td>\n",
              "    </tr>\n",
              "    <tr>\n",
              "      <th>...</th>\n",
              "      <td>...</td>\n",
              "      <td>...</td>\n",
              "      <td>...</td>\n",
              "      <td>...</td>\n",
              "      <td>...</td>\n",
              "      <td>...</td>\n",
              "      <td>...</td>\n",
              "      <td>...</td>\n",
              "    </tr>\n",
              "    <tr>\n",
              "      <th>4375</th>\n",
              "      <td>18280</td>\n",
              "      <td>10</td>\n",
              "      <td>310</td>\n",
              "      <td>47.65</td>\n",
              "      <td>2</td>\n",
              "      <td>1</td>\n",
              "      <td>1</td>\n",
              "      <td>211</td>\n",
              "    </tr>\n",
              "    <tr>\n",
              "      <th>4376</th>\n",
              "      <td>18281</td>\n",
              "      <td>7</td>\n",
              "      <td>213</td>\n",
              "      <td>39.36</td>\n",
              "      <td>3</td>\n",
              "      <td>1</td>\n",
              "      <td>1</td>\n",
              "      <td>311</td>\n",
              "    </tr>\n",
              "    <tr>\n",
              "      <th>4377</th>\n",
              "      <td>18282</td>\n",
              "      <td>13</td>\n",
              "      <td>40</td>\n",
              "      <td>62.68</td>\n",
              "      <td>5</td>\n",
              "      <td>1</td>\n",
              "      <td>1</td>\n",
              "      <td>511</td>\n",
              "    </tr>\n",
              "    <tr>\n",
              "      <th>4378</th>\n",
              "      <td>18283</td>\n",
              "      <td>756</td>\n",
              "      <td>36</td>\n",
              "      <td>1220.93</td>\n",
              "      <td>5</td>\n",
              "      <td>5</td>\n",
              "      <td>5</td>\n",
              "      <td>555</td>\n",
              "    </tr>\n",
              "    <tr>\n",
              "      <th>4379</th>\n",
              "      <td>18287</td>\n",
              "      <td>70</td>\n",
              "      <td>75</td>\n",
              "      <td>104.55</td>\n",
              "      <td>5</td>\n",
              "      <td>2</td>\n",
              "      <td>1</td>\n",
              "      <td>521</td>\n",
              "    </tr>\n",
              "  </tbody>\n",
              "</table>\n",
              "<p>4326 rows × 8 columns</p>\n",
              "</div>\n",
              "      <button class=\"colab-df-convert\" onclick=\"convertToInteractive('df-4719e6f7-17ae-4152-ab20-e3061ab160c4')\"\n",
              "              title=\"Convert this dataframe to an interactive table.\"\n",
              "              style=\"display:none;\">\n",
              "        \n",
              "  <svg xmlns=\"http://www.w3.org/2000/svg\" height=\"24px\"viewBox=\"0 0 24 24\"\n",
              "       width=\"24px\">\n",
              "    <path d=\"M0 0h24v24H0V0z\" fill=\"none\"/>\n",
              "    <path d=\"M18.56 5.44l.94 2.06.94-2.06 2.06-.94-2.06-.94-.94-2.06-.94 2.06-2.06.94zm-11 1L8.5 8.5l.94-2.06 2.06-.94-2.06-.94L8.5 2.5l-.94 2.06-2.06.94zm10 10l.94 2.06.94-2.06 2.06-.94-2.06-.94-.94-2.06-.94 2.06-2.06.94z\"/><path d=\"M17.41 7.96l-1.37-1.37c-.4-.4-.92-.59-1.43-.59-.52 0-1.04.2-1.43.59L10.3 9.45l-7.72 7.72c-.78.78-.78 2.05 0 2.83L4 21.41c.39.39.9.59 1.41.59.51 0 1.02-.2 1.41-.59l7.78-7.78 2.81-2.81c.8-.78.8-2.07 0-2.86zM5.41 20L4 18.59l7.72-7.72 1.47 1.35L5.41 20z\"/>\n",
              "  </svg>\n",
              "      </button>\n",
              "      \n",
              "  <style>\n",
              "    .colab-df-container {\n",
              "      display:flex;\n",
              "      flex-wrap:wrap;\n",
              "      gap: 12px;\n",
              "    }\n",
              "\n",
              "    .colab-df-convert {\n",
              "      background-color: #E8F0FE;\n",
              "      border: none;\n",
              "      border-radius: 50%;\n",
              "      cursor: pointer;\n",
              "      display: none;\n",
              "      fill: #1967D2;\n",
              "      height: 32px;\n",
              "      padding: 0 0 0 0;\n",
              "      width: 32px;\n",
              "    }\n",
              "\n",
              "    .colab-df-convert:hover {\n",
              "      background-color: #E2EBFA;\n",
              "      box-shadow: 0px 1px 2px rgba(60, 64, 67, 0.3), 0px 1px 3px 1px rgba(60, 64, 67, 0.15);\n",
              "      fill: #174EA6;\n",
              "    }\n",
              "\n",
              "    [theme=dark] .colab-df-convert {\n",
              "      background-color: #3B4455;\n",
              "      fill: #D2E3FC;\n",
              "    }\n",
              "\n",
              "    [theme=dark] .colab-df-convert:hover {\n",
              "      background-color: #434B5C;\n",
              "      box-shadow: 0px 1px 3px 1px rgba(0, 0, 0, 0.15);\n",
              "      filter: drop-shadow(0px 1px 2px rgba(0, 0, 0, 0.3));\n",
              "      fill: #FFFFFF;\n",
              "    }\n",
              "  </style>\n",
              "\n",
              "      <script>\n",
              "        const buttonEl =\n",
              "          document.querySelector('#df-4719e6f7-17ae-4152-ab20-e3061ab160c4 button.colab-df-convert');\n",
              "        buttonEl.style.display =\n",
              "          google.colab.kernel.accessAllowed ? 'block' : 'none';\n",
              "\n",
              "        async function convertToInteractive(key) {\n",
              "          const element = document.querySelector('#df-4719e6f7-17ae-4152-ab20-e3061ab160c4');\n",
              "          const dataTable =\n",
              "            await google.colab.kernel.invokeFunction('convertToInteractive',\n",
              "                                                     [key], {});\n",
              "          if (!dataTable) return;\n",
              "\n",
              "          const docLinkHtml = 'Like what you see? Visit the ' +\n",
              "            '<a target=\"_blank\" href=https://colab.research.google.com/notebooks/data_table.ipynb>data table notebook</a>'\n",
              "            + ' to learn more about interactive tables.';\n",
              "          element.innerHTML = '';\n",
              "          dataTable['output_type'] = 'display_data';\n",
              "          await google.colab.output.renderOutput(dataTable, element);\n",
              "          const docLink = document.createElement('div');\n",
              "          docLink.innerHTML = docLinkHtml;\n",
              "          element.appendChild(docLink);\n",
              "        }\n",
              "      </script>\n",
              "    </div>\n",
              "  </div>\n",
              "  "
            ]
          },
          "metadata": {},
          "execution_count": 25
        }
      ]
    },
    {
      "cell_type": "code",
      "source": [
        "y"
      ],
      "metadata": {
        "colab": {
          "base_uri": "https://localhost:8080/"
        },
        "id": "b47Bc9lPUce0",
        "outputId": "51db9b0e-4848-4154-d1fe-2785aa63ce57"
      },
      "execution_count": null,
      "outputs": [
        {
          "output_type": "execute_result",
          "data": {
            "text/plain": [
              "0       2\n",
              "1       3\n",
              "2       6\n",
              "3       8\n",
              "4       2\n",
              "       ..\n",
              "4375    2\n",
              "4376    0\n",
              "4377    5\n",
              "4378    3\n",
              "4379    6\n",
              "Name: Customer_Segment, Length: 4326, dtype: int64"
            ]
          },
          "metadata": {},
          "execution_count": 26
        }
      ]
    },
    {
      "cell_type": "markdown",
      "source": [
        "##### 1. Decision Tree Classifier"
      ],
      "metadata": {
        "id": "MzKLLVQIo9t6"
      }
    },
    {
      "cell_type": "code",
      "source": [
        "# Train and test a Decision Tree Classifier\n",
        "dtc = DecisionTreeClassifier(random_state=42)\n",
        "dtc.fit(X_train, y_train)\n",
        "y_pred_dtc = dtc.predict(X_test)\n",
        "print('Decision Tree Classifier:')\n",
        "print(classification_report(y_test, y_pred_dtc))"
      ],
      "metadata": {
        "colab": {
          "base_uri": "https://localhost:8080/"
        },
        "id": "9PkAC8mRUlv3",
        "outputId": "c7790d5d-a1ef-4a30-cbc2-d56821b29cf8"
      },
      "execution_count": null,
      "outputs": [
        {
          "output_type": "stream",
          "name": "stdout",
          "text": [
            "Decision Tree Classifier:\n",
            "              precision    recall  f1-score   support\n",
            "\n",
            "           0       0.97      1.00      0.99        69\n",
            "           1       1.00      1.00      1.00         3\n",
            "           2       1.00      1.00      1.00        98\n",
            "           3       1.00      1.00      1.00       126\n",
            "           4       1.00      1.00      1.00         4\n",
            "           5       1.00      1.00      1.00       245\n",
            "           6       1.00      0.99      1.00       239\n",
            "           7       1.00      1.00      1.00        81\n",
            "           8       1.00      1.00      1.00         1\n",
            "\n",
            "    accuracy                           1.00       866\n",
            "   macro avg       1.00      1.00      1.00       866\n",
            "weighted avg       1.00      1.00      1.00       866\n",
            "\n"
          ]
        }
      ]
    },
    {
      "cell_type": "markdown",
      "source": [
        "#### 2. K-Nearest Neighors Classifier"
      ],
      "metadata": {
        "id": "dRW4AX0IpH19"
      }
    },
    {
      "cell_type": "code",
      "source": [
        "# Train and test a K-Nearest Neighbors Classifier\n",
        "knn = KNeighborsClassifier()\n",
        "knn.fit(X_train, y_train)\n",
        "y_pred_knn = knn.predict(X_test)\n",
        "print('K-Nearest Neighbors Classifier:')\n",
        "print(classification_report(y_test, y_pred_knn))"
      ],
      "metadata": {
        "colab": {
          "base_uri": "https://localhost:8080/"
        },
        "id": "Zo69Emv5U0WV",
        "outputId": "53684489-3684-4602-a7e7-71deee839f6e"
      },
      "execution_count": null,
      "outputs": [
        {
          "output_type": "stream",
          "name": "stdout",
          "text": [
            "K-Nearest Neighbors Classifier:\n",
            "              precision    recall  f1-score   support\n",
            "\n",
            "           0       0.94      0.99      0.96        69\n",
            "           1       0.00      0.00      0.00         3\n",
            "           2       1.00      0.99      0.99        98\n",
            "           3       0.96      0.93      0.94       126\n",
            "           4       0.40      0.50      0.44         4\n",
            "           5       0.93      0.98      0.95       245\n",
            "           6       0.93      0.88      0.91       239\n",
            "           7       0.92      0.99      0.95        81\n",
            "           8       0.00      0.00      0.00         1\n",
            "\n",
            "    accuracy                           0.94       866\n",
            "   macro avg       0.68      0.69      0.68       866\n",
            "weighted avg       0.94      0.94      0.94       866\n",
            "\n"
          ]
        },
        {
          "output_type": "stream",
          "name": "stderr",
          "text": [
            "/usr/local/lib/python3.10/dist-packages/sklearn/metrics/_classification.py:1344: UndefinedMetricWarning: Precision and F-score are ill-defined and being set to 0.0 in labels with no predicted samples. Use `zero_division` parameter to control this behavior.\n",
            "  _warn_prf(average, modifier, msg_start, len(result))\n",
            "/usr/local/lib/python3.10/dist-packages/sklearn/metrics/_classification.py:1344: UndefinedMetricWarning: Precision and F-score are ill-defined and being set to 0.0 in labels with no predicted samples. Use `zero_division` parameter to control this behavior.\n",
            "  _warn_prf(average, modifier, msg_start, len(result))\n",
            "/usr/local/lib/python3.10/dist-packages/sklearn/metrics/_classification.py:1344: UndefinedMetricWarning: Precision and F-score are ill-defined and being set to 0.0 in labels with no predicted samples. Use `zero_division` parameter to control this behavior.\n",
            "  _warn_prf(average, modifier, msg_start, len(result))\n"
          ]
        }
      ]
    },
    {
      "cell_type": "markdown",
      "source": [
        "#### 3. Naïve Bayes Classifier"
      ],
      "metadata": {
        "id": "x5UW9dF6pa2D"
      }
    },
    {
      "cell_type": "code",
      "source": [
        "# Train and test a Naive Bayes Classifier\n",
        "gnb = GaussianNB()\n",
        "gnb.fit(X_train, y_train)\n",
        "y_pred_gnb = gnb.predict(X_test)\n",
        "print('Naive Bayes Classifier:')\n",
        "print(classification_report(y_test, y_pred_gnb))\n"
      ],
      "metadata": {
        "colab": {
          "base_uri": "https://localhost:8080/"
        },
        "id": "N5PnL1ilUxV3",
        "outputId": "6848be9c-537e-4e2d-effe-9e378900d025"
      },
      "execution_count": null,
      "outputs": [
        {
          "output_type": "stream",
          "name": "stdout",
          "text": [
            "Naive Bayes Classifier:\n",
            "              precision    recall  f1-score   support\n",
            "\n",
            "           0       1.00      1.00      1.00        69\n",
            "           1       0.43      1.00      0.60         3\n",
            "           2       1.00      0.98      0.99        98\n",
            "           3       1.00      0.98      0.99       126\n",
            "           4       0.50      0.75      0.60         4\n",
            "           5       1.00      1.00      1.00       245\n",
            "           6       1.00      0.99      0.99       239\n",
            "           7       1.00      1.00      1.00        81\n",
            "           8       1.00      1.00      1.00         1\n",
            "\n",
            "    accuracy                           0.99       866\n",
            "   macro avg       0.88      0.97      0.91       866\n",
            "weighted avg       0.99      0.99      0.99       866\n",
            "\n"
          ]
        }
      ]
    },
    {
      "cell_type": "markdown",
      "source": [
        "#### 4. Support Vector Classifier"
      ],
      "metadata": {
        "id": "xdDQlqTAphPi"
      }
    },
    {
      "cell_type": "code",
      "source": [
        "# Train and test a Support Vector Classifier\n",
        "svc = SVC(random_state=42)\n",
        "svc.fit(X_train, y_train)\n",
        "y_pred_svc = svc.predict(X_test)\n",
        "print('Support Vector Classifier:')\n",
        "print(classification_report(y_test, y_pred_svc))"
      ],
      "metadata": {
        "colab": {
          "base_uri": "https://localhost:8080/"
        },
        "id": "NvZD3XUaUwCy",
        "outputId": "b117b4e2-5fb9-4afc-fb05-435a4be7f0da"
      },
      "execution_count": null,
      "outputs": [
        {
          "output_type": "stream",
          "name": "stdout",
          "text": [
            "Support Vector Classifier:\n",
            "              precision    recall  f1-score   support\n",
            "\n",
            "           0       0.00      0.00      0.00        69\n",
            "           1       0.00      0.00      0.00         3\n",
            "           2       0.00      0.00      0.00        98\n",
            "           3       0.98      0.44      0.60       126\n",
            "           4       0.00      0.00      0.00         4\n",
            "           5       0.32      1.00      0.49       245\n",
            "           6       0.00      0.00      0.00       239\n",
            "           7       0.00      0.00      0.00        81\n",
            "           8       0.00      0.00      0.00         1\n",
            "\n",
            "    accuracy                           0.35       866\n",
            "   macro avg       0.15      0.16      0.12       866\n",
            "weighted avg       0.23      0.35      0.23       866\n",
            "\n"
          ]
        },
        {
          "output_type": "stream",
          "name": "stderr",
          "text": [
            "/usr/local/lib/python3.10/dist-packages/sklearn/metrics/_classification.py:1344: UndefinedMetricWarning: Precision and F-score are ill-defined and being set to 0.0 in labels with no predicted samples. Use `zero_division` parameter to control this behavior.\n",
            "  _warn_prf(average, modifier, msg_start, len(result))\n",
            "/usr/local/lib/python3.10/dist-packages/sklearn/metrics/_classification.py:1344: UndefinedMetricWarning: Precision and F-score are ill-defined and being set to 0.0 in labels with no predicted samples. Use `zero_division` parameter to control this behavior.\n",
            "  _warn_prf(average, modifier, msg_start, len(result))\n",
            "/usr/local/lib/python3.10/dist-packages/sklearn/metrics/_classification.py:1344: UndefinedMetricWarning: Precision and F-score are ill-defined and being set to 0.0 in labels with no predicted samples. Use `zero_division` parameter to control this behavior.\n",
            "  _warn_prf(average, modifier, msg_start, len(result))\n"
          ]
        }
      ]
    },
    {
      "cell_type": "markdown",
      "source": [
        "#### 5. Random Forest"
      ],
      "metadata": {
        "id": "dwAdR-h4pmI3"
      }
    },
    {
      "cell_type": "code",
      "source": [
        "# Train and test a Random Forest\n",
        "rfc = RandomForestClassifier(random_state=42)\n",
        "rfc.fit(X_train, y_train)\n",
        "y_pred_rfc = rfc.predict(X_test)\n",
        "\n",
        "print('Random Forest Classifier:')\n",
        "print(classification_report(y_test, y_pred_rfc))"
      ],
      "metadata": {
        "colab": {
          "base_uri": "https://localhost:8080/"
        },
        "id": "SultP3sUVWi4",
        "outputId": "a608923d-d939-463a-823f-acdcfaab11eb"
      },
      "execution_count": null,
      "outputs": [
        {
          "output_type": "stream",
          "name": "stdout",
          "text": [
            "Random Forest Classifier:\n",
            "              precision    recall  f1-score   support\n",
            "\n",
            "           0       0.96      1.00      0.98        69\n",
            "           1       1.00      1.00      1.00         3\n",
            "           2       1.00      1.00      1.00        98\n",
            "           3       1.00      1.00      1.00       126\n",
            "           4       1.00      0.75      0.86         4\n",
            "           5       1.00      1.00      1.00       245\n",
            "           6       1.00      0.99      1.00       239\n",
            "           7       1.00      1.00      1.00        81\n",
            "           8       1.00      1.00      1.00         1\n",
            "\n",
            "    accuracy                           1.00       866\n",
            "   macro avg       1.00      0.97      0.98       866\n",
            "weighted avg       1.00      1.00      1.00       866\n",
            "\n"
          ]
        }
      ]
    },
    {
      "cell_type": "markdown",
      "source": [
        "### Model Comparison\n",
        "\n",
        "We will compare the performance of the four candidate models using a holdout set. The holdout set is a subset of the data that is not used to train the models. It is used to evaluate the performance of the models on unseen data.\n",
        "\n",
        "We will use the following metrics to evaluate the performance of the models:\n",
        "\n",
        "- Accuracy: The percentage of predictions that are correct.\n",
        "- F1 score: A measure of the accuracy and precision of the predictions.\n",
        "- Area under the curve (AUC): A measure of the overall performance of the model.\n",
        "\n",
        "#### Best Performing Algorithm\n",
        "The best performing algorithm is the one that has the highest **accuracy**, **F1 score**, and **AUC** on the holdout set. \n",
        "\n",
        "[answer] In this case, the best performing algorithm is the random forest model."
      ],
      "metadata": {
        "id": "ZK_YoCqt_0Or"
      }
    },
    {
      "cell_type": "code",
      "source": [
        "# Compare the performance of the four algorithms\n",
        "print(\"ACCURACY\")\n",
        "print('Decision Tree Classifier accuracy:', accuracy_score(y_test, y_pred_dtc))\n",
        "print('K-Nearest Neighbors Classifier accuracy:', accuracy_score(y_test, y_pred_knn))\n",
        "print('Naive Bayes Classifier accuracy:', accuracy_score(y_test, y_pred_gnb))\n",
        "print('Support Vector Classifier accuracy:', accuracy_score(y_test, y_pred_svc))\n",
        "print('Random Forest Classifier accuracy:', accuracy_score(y_test, y_pred_rfc))\n"
      ],
      "metadata": {
        "colab": {
          "base_uri": "https://localhost:8080/"
        },
        "id": "WJoun5oWV8de",
        "outputId": "09a072c6-32dd-49de-a717-03600f5f1bca"
      },
      "execution_count": null,
      "outputs": [
        {
          "output_type": "stream",
          "name": "stdout",
          "text": [
            "ACCURACY\n",
            "Decision Tree Classifier accuracy: 0.9976905311778291\n",
            "K-Nearest Neighbors Classifier accuracy: 0.9399538106235565\n",
            "Naive Bayes Classifier accuracy: 0.9907621247113164\n",
            "Support Vector Classifier accuracy: 0.3464203233256351\n",
            "Random Forest Classifier accuracy: 0.9965357967667436\n"
          ]
        }
      ]
    },
    {
      "cell_type": "markdown",
      "source": [
        "Based on the accuracy scores, it appears that the **Decision Tree Classifier** is the best performing algorithm.\n",
        "\n",
        "### Final Model\n",
        "We will tune the hyperparameters of the Decision Tree Classifier to improve its performance. The hyperparameters are the parameters of the model that are not learned from the data. We will use a grid search to find the best combination of hyperparameters using GridSearchCV function from scikit-learn."
      ],
      "metadata": {
        "id": "8MgWiyQlXDea"
      }
    },
    {
      "cell_type": "code",
      "source": [
        "# Define the parameter grid\n",
        "param_grid = {\n",
        "    'max_depth': [5, 10, 15, 20],\n",
        "    'min_samples_split': [2, 5, 10, 15, 20]\n",
        "}\n",
        "\n",
        "# Create a GridSearchCV object\n",
        "grid_search = GridSearchCV(\n",
        "    estimator=DecisionTreeClassifier(random_state=42),\n",
        "    param_grid=param_grid,\n",
        "    cv=5,\n",
        "    n_jobs=-1,\n",
        "    scoring='accuracy'\n",
        ")\n",
        "\n",
        "# Fit the grid search object to the data\n",
        "grid_search.fit(X_train, y_train)\n",
        "\n",
        "# Print the best hyperparameters\n",
        "print(\"Best parameters: \", grid_search.best_params_)"
      ],
      "metadata": {
        "colab": {
          "base_uri": "https://localhost:8080/"
        },
        "id": "p8woehIsXMg3",
        "outputId": "7779e3a0-c1d9-4d31-acc7-9b1b00b0b892"
      },
      "execution_count": null,
      "outputs": [
        {
          "output_type": "stream",
          "name": "stdout",
          "text": [
            "Best parameters:  {'max_depth': 10, 'min_samples_split': 2}\n"
          ]
        }
      ]
    },
    {
      "cell_type": "code",
      "source": [
        "# Create a Decision Tree Classifier object with the best hyperparameters\n",
        "dtc_tuned = DecisionTreeClassifier(\n",
        "    max_depth=15,\n",
        "    min_samples_split=2,\n",
        "    random_state=42\n",
        ")\n",
        "\n",
        "# Train the model on the training data\n",
        "dtc_tuned.fit(X_train, y_train)\n",
        "\n",
        "# Evaluate the model on the test data\n",
        "y_pred = dtc_tuned.predict(X_test)\n",
        "accuracy = accuracy_score(y_test, y_pred)\n",
        "f1 = f1_score(y_test, y_pred, average='weighted')\n",
        "\n",
        "print(\"Tuned Decision Tree Classifier accuracy: \", accuracy)\n",
        "print(\"Tuned Decision Tree Classifier F1 Score: \", f1)"
      ],
      "metadata": {
        "colab": {
          "base_uri": "https://localhost:8080/"
        },
        "id": "sX7c5_PFXib5",
        "outputId": "268ee816-4c77-498b-b8f1-0688d58098a2"
      },
      "execution_count": null,
      "outputs": [
        {
          "output_type": "stream",
          "name": "stdout",
          "text": [
            "Tuned Decision Tree Classifier accuracy:  0.9976905311778291\n",
            "Tuned Decision Tree Classifier F1 Score:  0.9977021755584451\n"
          ]
        }
      ]
    },
    {
      "cell_type": "markdown",
      "source": [
        "### Results\n",
        "\n",
        "The final model has an accuracy of 99%, an F1 score of 0.9977. This means that the model is able to correctly predict which customers are likely to churn 99% of the time."
      ],
      "metadata": {
        "id": "B8EHIKyUBLda"
      }
    }
  ]
}